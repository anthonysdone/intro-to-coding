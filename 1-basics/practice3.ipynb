{
 "cells": [
  {
   "cell_type": "code",
   "execution_count": null,
   "id": "93b28f87",
   "metadata": {},
   "outputs": [],
   "source": [
    "# 1. Ask user for two numbers, then multiply them, print the result. "
   ]
  },
  {
   "cell_type": "code",
   "execution_count": null,
   "id": "a5b0b01b",
   "metadata": {},
   "outputs": [],
   "source": [
    "# 2. Compute the average of three numbers. "
   ]
  },
  {
   "cell_type": "code",
   "execution_count": null,
   "id": "3e83baa5",
   "metadata": {},
   "outputs": [],
   "source": [
    "# 3. Ask user for temperature in C, convert and print temperature in F"
   ]
  },
  {
   "cell_type": "code",
   "execution_count": null,
   "id": "0beebbdc",
   "metadata": {},
   "outputs": [],
   "source": [
    "# 4. Ask for radius and compute and print the circumference."
   ]
  },
  {
   "cell_type": "code",
   "execution_count": null,
   "id": "35637679",
   "metadata": {},
   "outputs": [],
   "source": [
    "# 5. Compute remainder and quotient (as an int) of 512 / 33"
   ]
  }
 ],
 "metadata": {
  "language_info": {
   "name": "python"
  }
 },
 "nbformat": 4,
 "nbformat_minor": 5
}
