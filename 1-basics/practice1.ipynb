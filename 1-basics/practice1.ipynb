{
 "cells": [
  {
   "cell_type": "code",
   "execution_count": null,
   "id": "9bc1dd9b",
   "metadata": {},
   "outputs": [],
   "source": [
    "# 1. Print \"Hello, World!\". "
   ]
  },
  {
   "cell_type": "code",
   "execution_count": null,
   "id": "6e667ca0",
   "metadata": {},
   "outputs": [],
   "source": [
    "# 2. Print your age."
   ]
  },
  {
   "cell_type": "code",
   "execution_count": null,
   "id": "5a21c246",
   "metadata": {},
   "outputs": [],
   "source": [
    "# 3. Store your name in a variable and print it."
   ]
  },
  {
   "cell_type": "code",
   "execution_count": null,
   "id": "41836417",
   "metadata": {},
   "outputs": [],
   "source": [
    "# 4. Ask the user for their hometown and print it."
   ]
  },
  {
   "cell_type": "code",
   "execution_count": null,
   "id": "5451f157",
   "metadata": {},
   "outputs": [],
   "source": [
    "# 5. Ask the user for two numbers and print their sum."
   ]
  }
 ],
 "metadata": {
  "language_info": {
   "name": "python"
  }
 },
 "nbformat": 4,
 "nbformat_minor": 5
}
