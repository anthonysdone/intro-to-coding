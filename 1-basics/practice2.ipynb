{
 "cells": [
  {
   "cell_type": "code",
   "execution_count": null,
   "id": "20509f45",
   "metadata": {},
   "outputs": [],
   "source": [
    "# 1. Ask the user for their name, then age, and print both. "
   ]
  },
  {
   "cell_type": "code",
   "execution_count": null,
   "id": "c0def016",
   "metadata": {},
   "outputs": [],
   "source": [
    "# 2. Ask the user for their favorite number, convert it to an int, and print it."
   ]
  },
  {
   "cell_type": "code",
   "execution_count": null,
   "id": "4e75028c",
   "metadata": {},
   "outputs": [],
   "source": [
    "# 3. Create an float storing height and convert it to a string. "
   ]
  },
  {
   "cell_type": "code",
   "execution_count": null,
   "id": "d5b5ec04",
   "metadata": {},
   "outputs": [],
   "source": [
    "# 4. Multiply two integers and print the result."
   ]
  },
  {
   "cell_type": "code",
   "execution_count": null,
   "id": "c01c11d9",
   "metadata": {},
   "outputs": [],
   "source": [
    "# 5. Add a float and int, convert the sum to a string, and print the result."
   ]
  }
 ],
 "metadata": {
  "language_info": {
   "name": "python"
  }
 },
 "nbformat": 4,
 "nbformat_minor": 5
}
