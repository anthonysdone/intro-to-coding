{
 "cells": [
  {
   "cell_type": "code",
   "execution_count": null,
   "id": "6a780a32",
   "metadata": {},
   "outputs": [],
   "source": [
    "# 1. Print \"Coding is fun!\""
   ]
  },
  {
   "cell_type": "code",
   "execution_count": null,
   "id": "38b2560e",
   "metadata": {},
   "outputs": [],
   "source": [
    "# 2. Create variables for your name, age, and favorite color, and print them."
   ]
  },
  {
   "cell_type": "code",
   "execution_count": null,
   "id": "5f64595c",
   "metadata": {},
   "outputs": [],
   "source": [
    "# 3. Ask the user for their height in cm, convert to meters, and print."
   ]
  },
  {
   "cell_type": "code",
   "execution_count": null,
   "id": "e54f37fb",
   "metadata": {},
   "outputs": [],
   "source": [
    "# 4. Compute and print the area of a rectangle from input width and height."
   ]
  },
  {
   "cell_type": "code",
   "execution_count": null,
   "id": "b5e961c7",
   "metadata": {},
   "outputs": [],
   "source": [
    "# 5. Ask the user for a number, square it, and print."
   ]
  },
  {
   "cell_type": "code",
   "execution_count": null,
   "id": "6722a6a7",
   "metadata": {},
   "outputs": [],
   "source": [
    "# 6. Ask for two integers and print their sum, difference, and product."
   ]
  },
  {
   "cell_type": "code",
   "execution_count": null,
   "id": "5b62ca3c",
   "metadata": {},
   "outputs": [],
   "source": [
    "# 7. Ask for the base and height of a triangle and compute area."
   ]
  },
  {
   "cell_type": "code",
   "execution_count": null,
   "id": "ccee7eb6",
   "metadata": {},
   "outputs": [],
   "source": [
    "# 8. Convert minutes to hours and minutes."
   ]
  },
  {
   "cell_type": "code",
   "execution_count": null,
   "id": "43afbc72",
   "metadata": {},
   "outputs": [],
   "source": [
    "# 9. Write a Celsius to Kelvin converter."
   ]
  },
  {
   "cell_type": "code",
   "execution_count": null,
   "id": "182f68c9",
   "metadata": {},
   "outputs": [],
   "source": [
    "# 10. Create a simple tip calculator (bill + tip percentage)."
   ]
  }
 ],
 "metadata": {
  "language_info": {
   "name": "python"
  }
 },
 "nbformat": 4,
 "nbformat_minor": 5
}
